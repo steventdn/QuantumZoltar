{
 "cells": [
  {
   "cell_type": "code",
   "execution_count": 77,
   "id": "9cbd6aa3",
   "metadata": {},
   "outputs": [
    {
     "name": "stderr",
     "output_type": "stream",
     "text": [
      "ibmqfactory.load_account:WARNING:2022-12-14 21:13:11,308: Credentials are already in use. The existing account in the session will be replaced.\n"
     ]
    },
    {
     "data": {
      "text/plain": [
       "<AccountProvider for IBMQ(hub='ibm-q', group='open', project='main')>"
      ]
     },
     "execution_count": 77,
     "metadata": {},
     "output_type": "execute_result"
    }
   ],
   "source": [
    "%matplotlib inline\n",
    "from qiskit import QuantumCircuit, execute, Aer, IBMQ\n",
    "from qiskit.compiler import transpile, assemble\n",
    "from qiskit.tools.jupyter import *\n",
    "from qiskit.visualization import *\n",
    "IBMQ.load_account()\n"
   ]
  },
  {
   "cell_type": "code",
   "execution_count": 78,
   "id": "78194be8",
   "metadata": {},
   "outputs": [
    {
     "data": {
      "text/plain": [
       "<qiskit.circuit.instructionset.InstructionSet at 0x26b6ec5d520>"
      ]
     },
     "execution_count": 78,
     "metadata": {},
     "output_type": "execute_result"
    }
   ],
   "source": [
    "# QUANTUM CIRCUIT WITH FIVE QUANTUM BITS, and FIVE classical bits to hold measurement results.\n",
    "qc = QuantumCircuit(5, 5)\n",
    "qc.h(0)\n",
    "qc.h(1)\n",
    "qc.h(2)\n",
    "qc.h(3)\n",
    "qc.h(4)\n",
    "qc.measure(range(5),range(5))"
   ]
  },
  {
   "cell_type": "code",
   "execution_count": 79,
   "id": "532f898b",
   "metadata": {},
   "outputs": [
    {
     "data": {
      "text/html": [
       "<pre style=\"word-wrap: normal;white-space: pre;background: #fff0;line-height: 1.1;font-family: &quot;Courier New&quot;,Courier,monospace\">     ┌───┐┌─┐            \n",
       "q_0: ┤ H ├┤M├────────────\n",
       "     ├───┤└╥┘┌─┐         \n",
       "q_1: ┤ H ├─╫─┤M├─────────\n",
       "     ├───┤ ║ └╥┘┌─┐      \n",
       "q_2: ┤ H ├─╫──╫─┤M├──────\n",
       "     ├───┤ ║  ║ └╥┘┌─┐   \n",
       "q_3: ┤ H ├─╫──╫──╫─┤M├───\n",
       "     ├───┤ ║  ║  ║ └╥┘┌─┐\n",
       "q_4: ┤ H ├─╫──╫──╫──╫─┤M├\n",
       "     └───┘ ║  ║  ║  ║ └╥┘\n",
       "c: 5/══════╩══╩══╩══╩══╩═\n",
       "           0  1  2  3  4 </pre>"
      ],
      "text/plain": [
       "     ┌───┐┌─┐            \n",
       "q_0: ┤ H ├┤M├────────────\n",
       "     ├───┤└╥┘┌─┐         \n",
       "q_1: ┤ H ├─╫─┤M├─────────\n",
       "     ├───┤ ║ └╥┘┌─┐      \n",
       "q_2: ┤ H ├─╫──╫─┤M├──────\n",
       "     ├───┤ ║  ║ └╥┘┌─┐   \n",
       "q_3: ┤ H ├─╫──╫──╫─┤M├───\n",
       "     ├───┤ ║  ║  ║ └╥┘┌─┐\n",
       "q_4: ┤ H ├─╫──╫──╫──╫─┤M├\n",
       "     └───┘ ║  ║  ║  ║ └╥┘\n",
       "c: 5/══════╩══╩══╩══╩══╩═\n",
       "           0  1  2  3  4 "
      ]
     },
     "execution_count": 79,
     "metadata": {},
     "output_type": "execute_result"
    }
   ],
   "source": [
    "qc.draw()"
   ]
  },
  {
   "cell_type": "code",
   "execution_count": 80,
   "id": "c00648ae",
   "metadata": {},
   "outputs": [],
   "source": [
    "def answer(result):\n",
    "    for key in result.keys():\n",
    "        state = key\n",
    "    print('----------------------------------------------------------------------------------------------------')\n",
    "    print('~~~~~~~~~~~~~~~~~~~~~~~~~~~~~~~~~~~~~~~~~~~~~~~~~~~~~~~~~~~~~~~~~~~~~~~~~~~~~~~~~~~~~~~~~~~~~~~~~~~~')\n",
    "    print('====================================================================================================')\n",
    "    print('                        ▀█ █▀█ █░░ ▀█▀ ▄▀█ █▀█   █▀ █▀█ █▀▀ ▄▀█ █▄▀ █▀')\n",
    "    print('                         █▄ █▄█ █▄▄ ░█░ █▀█ █▀▄   ▄█ █▀▀ ██▄ █▀█ █░█ ▄█')\n",
    "    print('\\n')\n",
    "    \n",
    "    print('                                            _____')\n",
    "    print('                                           {_____}')\n",
    "    print(\"                                            ('J')\")\n",
    "    print('                                          ___)~(__')\n",
    "    print('                                        (    ()    )')\n",
    "    print('                                         \\) /  \\ (/')\n",
    "    print('                                          \\/    \\/')\n",
    "    print('                                            \\  /')\n",
    "    print('                                             \\(')\n",
    "    print('                                              )')\n",
    "    print('                                              (')\n",
    "    print('                                               )')\n",
    "    print('                                    __.-~-.___/')\n",
    "    print('                                   C (_____)')\n",
    "    print('                                        &')\n",
    "    print('                                       ~~~')\n",
    "    \n",
    "    print('\\n')\n",
    "    print('                        █▄█ █▀█ █░█ █▀█   █▀▀ █▀█ █▀█ ▀█▀ █░█ █▄░█ █▀▀')\n",
    "    print('                        █░ █▄█ █▄█ █▀▄   █▀░ █▄█ █▀▄ ░█░ █▄█ █░▀█ ██▄')\n",
    "    \n",
    "    print('\\n')\n",
    "    if state == '00000':\n",
    "        print('The professor will hire me as an intern at his startup.')\n",
    "    elif state == '00001':\n",
    "        print('Be kind to unkind people – they need it the most.')\n",
    "    elif state == '00010':\n",
    "        print('Always borrow money from a pessimist; they don’t expect to be paid back.')\n",
    "    elif state == '00100':\n",
    "        print('There is nothing better than a friend, unless it is a friend with chocolate!')\n",
    "    elif state == '01000':\n",
    "        print(\"If Cinderella’s slipper fitted perfectly, why did it fall off?\")\n",
    "    elif state == '10000':\n",
    "        print('With great power there comes an even greater electricity bill!')\n",
    "        \n",
    "    elif state == '00011':\n",
    "        print('No matter how smart you are, you will never convince someone stupid that they are stupid.')\n",
    "    elif state == '00110':\n",
    "        print('Do not miss out on something that is great just because it could be difficult!')\n",
    "    elif state == '01100':\n",
    "        print('If PLAN A fails all is not lost, there are 25 more letters in the alphabet!')\n",
    "    elif state == '11000':\n",
    "        print('Expecting the unexpected, makes the unexpected expected!')\n",
    "    elif state == '00101':\n",
    "        print('Remember, a true friend is the one that walks in,  when the rest of the world walks out')\n",
    "    elif state == '01010':\n",
    "        print('All easy problems have already been solved!')\n",
    "    elif state == '00111':\n",
    "        print('Be kind to unkind people – they need it the most.')\n",
    "    elif state == '01110':\n",
    "        print('A person that aims at nothing, is sure to hit it.')\n",
    "    elif state == '11100':\n",
    "        print('If you always do, what you have always done, you will always get what you always had.')\n",
    "    elif state == '10101':\n",
    "        print(\"A bus is a vehicle that runs twice as fast when you are wanting to catch it, than when you are riding in it.\")\n",
    "    elif state == '11001':\n",
    "        print('There will come a point in your life, when you realise who REALLY matters, who NEVER did and who ALWAYS will.')\n",
    "    elif state == '10011':\n",
    "        print('No matter how smart you are, you will never convince someone stupid that they are stupid.') \n",
    "    \n",
    "    elif state == '01011':\n",
    "        print('Remember, cats have 32 muscles in each ear, this is to help them ignore you!')\n",
    "    elif state == '10110':\n",
    "        print('Better late than never, but never late is better!')\n",
    "    elif state == '11010':\n",
    "        print('Those who live in the past limit their future!')\n",
    "    elif state == '01101':\n",
    "        print(\"COME BACK SOON, I HAVE MORE TO TELL YOU.\")\n",
    "    else:\n",
    "        print('A goal without a plan, is just a wish!')\n",
    "        \n",
    "    print('\\n')  \n",
    "    print('           █▄█ █▀█ █░█ █▀█   █░░ █░█ █▀▀ █▄▀ █▄█   █▄░█ █░█ █▀▄▀█ █▄▄ █▀▀ █▀█')\n",
    "    print('           ░█░ █▄█ █▄█ █▀▄   █▄▄ █▄█ █▄▄ █░█ ░█░   █░▀█ █▄█ █░▀░█ █▄█ ██▄ █▀▄')\n",
    "    print('\\n                                           ','(',int(state, 2),')')\n",
    "    print('                                          𝕡𝕝𝕒𝕪 𝕒𝕘𝕒𝕚𝕟')\n",
    "    print('====================================================================================================')\n",
    "    print('~~~~~~~~~~~~~~~~~~~~~~~~~~~~~~~~~~~~~~~~~~~~~~~~~~~~~~~~~~~~~~~~~~~~~~~~~~~~~~~~~~~~~~~~~~~~~~~~~~~~')\n",
    "    print('----------------------------------------------------------------------------------------------------')"
   ]
  },
  {
   "cell_type": "code",
   "execution_count": 81,
   "id": "57672fdd",
   "metadata": {
    "scrolled": true
   },
   "outputs": [],
   "source": [
    "provider = IBMQ.get_provider('ibm-q')"
   ]
  },
  {
   "cell_type": "code",
   "execution_count": 82,
   "id": "e0bc1d1d",
   "metadata": {},
   "outputs": [],
   "source": [
    "qcomp = provider.get_backend('ibmq_quito')"
   ]
  },
  {
   "cell_type": "code",
   "execution_count": 83,
   "id": "c504e149",
   "metadata": {},
   "outputs": [],
   "source": [
    "job = execute(qc, backend=qcomp)"
   ]
  },
  {
   "cell_type": "code",
   "execution_count": 84,
   "id": "6f74c7d9",
   "metadata": {},
   "outputs": [],
   "source": [
    "from qiskit.tools.monitor import job_monitor"
   ]
  },
  {
   "cell_type": "code",
   "execution_count": 85,
   "id": "c6309cb3",
   "metadata": {},
   "outputs": [
    {
     "name": "stdout",
     "output_type": "stream",
     "text": [
      "Job Status: job has successfully run\n"
     ]
    }
   ],
   "source": [
    "job_monitor(job)"
   ]
  },
  {
   "cell_type": "code",
   "execution_count": 86,
   "id": "4b6099d3",
   "metadata": {},
   "outputs": [],
   "source": [
    "counts = job.result().get_counts(qc)"
   ]
  },
  {
   "cell_type": "code",
   "execution_count": 87,
   "id": "c3ead07c",
   "metadata": {},
   "outputs": [
    {
     "name": "stdout",
     "output_type": "stream",
     "text": [
      "----------------------------------------------------------------------------------------------------\n",
      "~~~~~~~~~~~~~~~~~~~~~~~~~~~~~~~~~~~~~~~~~~~~~~~~~~~~~~~~~~~~~~~~~~~~~~~~~~~~~~~~~~~~~~~~~~~~~~~~~~~~\n",
      "====================================================================================================\n",
      "                        ▀█ █▀█ █░░ ▀█▀ ▄▀█ █▀█   █▀ █▀█ █▀▀ ▄▀█ █▄▀ █▀\n",
      "                         █▄ █▄█ █▄▄ ░█░ █▀█ █▀▄   ▄█ █▀▀ ██▄ █▀█ █░█ ▄█\n",
      "\n",
      "\n",
      "                                            _____\n",
      "                                           {_____}\n",
      "                                            ('J')\n",
      "                                          ___)~(__\n",
      "                                        (    ()    )\n",
      "                                         \\) /  \\ (/\n",
      "                                          \\/    \\/\n",
      "                                            \\  /\n",
      "                                             \\(\n",
      "                                              )\n",
      "                                              (\n",
      "                                               )\n",
      "                                    __.-~-.___/\n",
      "                                   C (_____)\n",
      "                                        &\n",
      "                                       ~~~\n",
      "\n",
      "\n",
      "                        █▄█ █▀█ █░█ █▀█   █▀▀ █▀█ █▀█ ▀█▀ █░█ █▄░█ █▀▀\n",
      "                        █░ █▄█ █▄█ █▀▄   █▀░ █▄█ █▀▄ ░█░ █▄█ █░▀█ ██▄\n",
      "\n",
      "\n",
      "A goal without a plan, is just a wish!\n",
      "\n",
      "\n",
      "           █▄█ █▀█ █░█ █▀█   █░░ █░█ █▀▀ █▄▀ █▄█   █▄░█ █░█ █▀▄▀█ █▄▄ █▀▀ █▀█\n",
      "           ░█░ █▄█ █▄█ █▀▄   █▄▄ █▄█ █▄▄ █░█ ░█░   █░▀█ █▄█ █░▀░█ █▄█ ██▄ █▀▄\n",
      "\n",
      "                                            ( 15 )\n",
      "                                          𝕡𝕝𝕒𝕪 𝕒𝕘𝕒𝕚𝕟\n",
      "====================================================================================================\n",
      "~~~~~~~~~~~~~~~~~~~~~~~~~~~~~~~~~~~~~~~~~~~~~~~~~~~~~~~~~~~~~~~~~~~~~~~~~~~~~~~~~~~~~~~~~~~~~~~~~~~~\n",
      "----------------------------------------------------------------------------------------------------\n"
     ]
    }
   ],
   "source": [
    "answer(counts)"
   ]
  },
  {
   "cell_type": "code",
   "execution_count": 88,
   "id": "7528f70b",
   "metadata": {},
   "outputs": [
    {
     "data": {
      "image/png": "[encoded data removed]",
      "text/plain": [
       "<Figure size 700x500 with 1 Axes>"
      ]
     },
     "execution_count": 88,
     "metadata": {},
     "output_type": "execute_result"
    }
   ],
   "source": [
    "plot_histogram(counts)"
   ]
  }
 ],
 "metadata": {
  "kernelspec": {
   "display_name": "Python 3 (ipykernel)",
   "language": "python",
   "name": "python3"
  },
  "language_info": {
   "codemirror_mode": {
    "name": "ipython",
    "version": 3
   },
   "file_extension": ".py",
   "mimetype": "text/x-python",
   "name": "python",
   "nbconvert_exporter": "python",
   "pygments_lexer": "ipython3",
   "version": "3.9.13"
  }
 },
 "nbformat": 4,
 "nbformat_minor": 5
}
